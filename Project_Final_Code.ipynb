{
 "cells": [
  {
   "cell_type": "code",
   "execution_count": 1,
   "metadata": {},
   "outputs": [
    {
     "name": "stderr",
     "output_type": "stream",
     "text": [
      "2024-04-08 07:31:46.759919: I tensorflow/core/platform/cpu_feature_guard.cc:210] This TensorFlow binary is optimized to use available CPU instructions in performance-critical operations.\n",
      "To enable the following instructions: AVX2 FMA, in other operations, rebuild TensorFlow with the appropriate compiler flags.\n",
      "2024-04-08 07:31:47.443259: W tensorflow/compiler/tf2tensorrt/utils/py_utils.cc:38] TF-TRT Warning: Could not find TensorRT\n"
     ]
    }
   ],
   "source": [
    "\n",
    "import cv2\n",
    "import pandas as pd\n",
    "import numpy as np\n",
    "import os\n",
    "import glob\n",
    "import torch\n",
    "import torch.nn as nn\n",
    "from torchvision.utils import make_grid\n",
    "from collections import OrderedDict\n",
    "from PIL import Image\n",
    "import matplotlib.pyplot as plt\n",
    "# from tensorflow.keras.preprocessing.image import ImageDataGenerator\n",
    "from torchvision import transforms, models\n",
    "from torchvision.models import resnet50, ResNet50_Weights\n",
    "from torch.utils.data import Dataset, DataLoader\n",
    "import PIL\n",
    "from PIL import Image\n",
    "import tensorflow as tf\n",
    "import os\n",
    "from tensorflow.keras.preprocessing.image import ImageDataGenerator, load_img, img_to_array\n",
    "from tensorflow.keras.preprocessing.image import save_img\n",
    "import sklearn as sk\n",
    "from sklearn.metrics import accuracy_score, roc_auc_score, roc_curve, balanced_accuracy_score, confusion_matrix, f1_score\n",
    "def set_seed(seed):\n",
    "    torch.manual_seed(seed)\n",
    "    torch.cuda.manual_seed(seed)\n",
    "    torch.cuda.manual_seed_all(seed)\n",
    "    tf.random.set_seed(seed)\n",
    "    np.random.seed(seed)\n"
   ]
  },
  {
   "cell_type": "code",
   "execution_count": 2,
   "metadata": {},
   "outputs": [],
   "source": [
    "#Local\n",
    "\n",
    "train_truth_local = '/home/teb344/Desktop/Oladayo_FIles/Machine Learning Project/ISIC2018_Task3_Training_GroundTruth/ISIC2018_Task3_Training_GroundTruth.csv'\n",
    "validation_truth_local = '/home/teb344/Desktop/Oladayo_FIles/Machine Learning Project/ISIC2018_Task3_Validation_GroundTruth/ISIC2018_Task3_Validation_GroundTruth.csv'\n",
    "\n",
    "train_img_dir_local = '/home/teb344/Desktop/Oladayo_FIles/Machine Learning Project/ISIC2018_Task3_Training_Input/ISIC2018_Task3_Training_Input'\n",
    "\n",
    "test_truth_local = '/home/teb344/Desktop/Oladayo_FIles/Machine Learning Project/Testing/ISIC2018_Task3_Test_GroundTruth/ISIC2018_Task3_Test_GroundTruth.csv'\n",
    "test_img_dir_local = '/home/teb344/Desktop/Oladayo_FIles/Machine Learning Project/Testing/ISIC2018_Task3_Test_Input'\n"
   ]
  },
  {
   "cell_type": "code",
   "execution_count": 3,
   "metadata": {},
   "outputs": [],
   "source": [
    "train_df = pd.read_csv(train_truth_local)\n",
    "classes = train_df.columns[1:]\n",
    "train_df['label'] = train_df.iloc[:, 1:].idxmax(axis=1)\n",
    "\n",
    "validation_df = pd.read_csv(validation_truth_local)\n",
    "validation_df['label'] = validation_df.iloc[:, 1:].idxmax(axis=1)\n",
    "\n",
    "train_image_directory = train_img_dir_local\n",
    "testing_img_directory = test_img_dir_local"
   ]
  },
  {
   "cell_type": "code",
   "execution_count": 4,
   "metadata": {},
   "outputs": [
    {
     "data": {
      "text/html": [
       "<div>\n",
       "<style scoped>\n",
       "    .dataframe tbody tr th:only-of-type {\n",
       "        vertical-align: middle;\n",
       "    }\n",
       "\n",
       "    .dataframe tbody tr th {\n",
       "        vertical-align: top;\n",
       "    }\n",
       "\n",
       "    .dataframe thead th {\n",
       "        text-align: right;\n",
       "    }\n",
       "</style>\n",
       "<table border=\"1\" class=\"dataframe\">\n",
       "  <thead>\n",
       "    <tr style=\"text-align: right;\">\n",
       "      <th></th>\n",
       "      <th>image</th>\n",
       "      <th>MEL</th>\n",
       "      <th>NV</th>\n",
       "      <th>BCC</th>\n",
       "      <th>AKIEC</th>\n",
       "      <th>BKL</th>\n",
       "      <th>DF</th>\n",
       "      <th>VASC</th>\n",
       "      <th>label</th>\n",
       "      <th>label_idx</th>\n",
       "    </tr>\n",
       "  </thead>\n",
       "  <tbody>\n",
       "    <tr>\n",
       "      <th>10010</th>\n",
       "      <td>ISIC_0034316</td>\n",
       "      <td>1.0</td>\n",
       "      <td>0.0</td>\n",
       "      <td>0.0</td>\n",
       "      <td>0.0</td>\n",
       "      <td>0.0</td>\n",
       "      <td>0.0</td>\n",
       "      <td>0.0</td>\n",
       "      <td>MEL</td>\n",
       "      <td>0</td>\n",
       "    </tr>\n",
       "    <tr>\n",
       "      <th>10011</th>\n",
       "      <td>ISIC_0034317</td>\n",
       "      <td>1.0</td>\n",
       "      <td>0.0</td>\n",
       "      <td>0.0</td>\n",
       "      <td>0.0</td>\n",
       "      <td>0.0</td>\n",
       "      <td>0.0</td>\n",
       "      <td>0.0</td>\n",
       "      <td>MEL</td>\n",
       "      <td>0</td>\n",
       "    </tr>\n",
       "    <tr>\n",
       "      <th>10012</th>\n",
       "      <td>ISIC_0034318</td>\n",
       "      <td>0.0</td>\n",
       "      <td>0.0</td>\n",
       "      <td>0.0</td>\n",
       "      <td>0.0</td>\n",
       "      <td>1.0</td>\n",
       "      <td>0.0</td>\n",
       "      <td>0.0</td>\n",
       "      <td>BKL</td>\n",
       "      <td>4</td>\n",
       "    </tr>\n",
       "    <tr>\n",
       "      <th>10013</th>\n",
       "      <td>ISIC_0034319</td>\n",
       "      <td>0.0</td>\n",
       "      <td>1.0</td>\n",
       "      <td>0.0</td>\n",
       "      <td>0.0</td>\n",
       "      <td>0.0</td>\n",
       "      <td>0.0</td>\n",
       "      <td>0.0</td>\n",
       "      <td>NV</td>\n",
       "      <td>1</td>\n",
       "    </tr>\n",
       "    <tr>\n",
       "      <th>10014</th>\n",
       "      <td>ISIC_0034320</td>\n",
       "      <td>0.0</td>\n",
       "      <td>1.0</td>\n",
       "      <td>0.0</td>\n",
       "      <td>0.0</td>\n",
       "      <td>0.0</td>\n",
       "      <td>0.0</td>\n",
       "      <td>0.0</td>\n",
       "      <td>NV</td>\n",
       "      <td>1</td>\n",
       "    </tr>\n",
       "  </tbody>\n",
       "</table>\n",
       "</div>"
      ],
      "text/plain": [
       "              image  MEL   NV  BCC  AKIEC  BKL   DF  VASC label  label_idx\n",
       "10010  ISIC_0034316  1.0  0.0  0.0    0.0  0.0  0.0   0.0   MEL          0\n",
       "10011  ISIC_0034317  1.0  0.0  0.0    0.0  0.0  0.0   0.0   MEL          0\n",
       "10012  ISIC_0034318  0.0  0.0  0.0    0.0  1.0  0.0   0.0   BKL          4\n",
       "10013  ISIC_0034319  0.0  1.0  0.0    0.0  0.0  0.0   0.0    NV          1\n",
       "10014  ISIC_0034320  0.0  1.0  0.0    0.0  0.0  0.0   0.0    NV          1"
      ]
     },
     "execution_count": 4,
     "metadata": {},
     "output_type": "execute_result"
    }
   ],
   "source": [
    "label_to_idx = {label: idx for idx, label in enumerate(train_df.iloc[:, 1:].columns)}\n",
    "train_df['label_idx'] = train_df['label'].map(label_to_idx)\n",
    "train_df.tail()"
   ]
  },
  {
   "cell_type": "code",
   "execution_count": 5,
   "metadata": {},
   "outputs": [
    {
     "data": {
      "text/html": [
       "<div>\n",
       "<style scoped>\n",
       "    .dataframe tbody tr th:only-of-type {\n",
       "        vertical-align: middle;\n",
       "    }\n",
       "\n",
       "    .dataframe tbody tr th {\n",
       "        vertical-align: top;\n",
       "    }\n",
       "\n",
       "    .dataframe thead th {\n",
       "        text-align: right;\n",
       "    }\n",
       "</style>\n",
       "<table border=\"1\" class=\"dataframe\">\n",
       "  <thead>\n",
       "    <tr style=\"text-align: right;\">\n",
       "      <th></th>\n",
       "      <th>image</th>\n",
       "      <th>MEL</th>\n",
       "      <th>NV</th>\n",
       "      <th>BCC</th>\n",
       "      <th>AKIEC</th>\n",
       "      <th>BKL</th>\n",
       "      <th>DF</th>\n",
       "      <th>VASC</th>\n",
       "      <th>label</th>\n",
       "      <th>label_idx</th>\n",
       "    </tr>\n",
       "  </thead>\n",
       "  <tbody>\n",
       "    <tr>\n",
       "      <th>0</th>\n",
       "      <td>ISIC_0034524</td>\n",
       "      <td>0.0</td>\n",
       "      <td>1.0</td>\n",
       "      <td>0.0</td>\n",
       "      <td>0.0</td>\n",
       "      <td>0.0</td>\n",
       "      <td>0.0</td>\n",
       "      <td>0.0</td>\n",
       "      <td>NV</td>\n",
       "      <td>1</td>\n",
       "    </tr>\n",
       "    <tr>\n",
       "      <th>1</th>\n",
       "      <td>ISIC_0034525</td>\n",
       "      <td>0.0</td>\n",
       "      <td>1.0</td>\n",
       "      <td>0.0</td>\n",
       "      <td>0.0</td>\n",
       "      <td>0.0</td>\n",
       "      <td>0.0</td>\n",
       "      <td>0.0</td>\n",
       "      <td>NV</td>\n",
       "      <td>1</td>\n",
       "    </tr>\n",
       "    <tr>\n",
       "      <th>2</th>\n",
       "      <td>ISIC_0034526</td>\n",
       "      <td>0.0</td>\n",
       "      <td>0.0</td>\n",
       "      <td>0.0</td>\n",
       "      <td>0.0</td>\n",
       "      <td>1.0</td>\n",
       "      <td>0.0</td>\n",
       "      <td>0.0</td>\n",
       "      <td>BKL</td>\n",
       "      <td>4</td>\n",
       "    </tr>\n",
       "    <tr>\n",
       "      <th>3</th>\n",
       "      <td>ISIC_0034527</td>\n",
       "      <td>0.0</td>\n",
       "      <td>1.0</td>\n",
       "      <td>0.0</td>\n",
       "      <td>0.0</td>\n",
       "      <td>0.0</td>\n",
       "      <td>0.0</td>\n",
       "      <td>0.0</td>\n",
       "      <td>NV</td>\n",
       "      <td>1</td>\n",
       "    </tr>\n",
       "    <tr>\n",
       "      <th>4</th>\n",
       "      <td>ISIC_0034528</td>\n",
       "      <td>0.0</td>\n",
       "      <td>1.0</td>\n",
       "      <td>0.0</td>\n",
       "      <td>0.0</td>\n",
       "      <td>0.0</td>\n",
       "      <td>0.0</td>\n",
       "      <td>0.0</td>\n",
       "      <td>NV</td>\n",
       "      <td>1</td>\n",
       "    </tr>\n",
       "  </tbody>\n",
       "</table>\n",
       "</div>"
      ],
      "text/plain": [
       "          image  MEL   NV  BCC  AKIEC  BKL   DF  VASC label  label_idx\n",
       "0  ISIC_0034524  0.0  1.0  0.0    0.0  0.0  0.0   0.0    NV          1\n",
       "1  ISIC_0034525  0.0  1.0  0.0    0.0  0.0  0.0   0.0    NV          1\n",
       "2  ISIC_0034526  0.0  0.0  0.0    0.0  1.0  0.0   0.0   BKL          4\n",
       "3  ISIC_0034527  0.0  1.0  0.0    0.0  0.0  0.0   0.0    NV          1\n",
       "4  ISIC_0034528  0.0  1.0  0.0    0.0  0.0  0.0   0.0    NV          1"
      ]
     },
     "execution_count": 5,
     "metadata": {},
     "output_type": "execute_result"
    }
   ],
   "source": [
    "testing_df = pd.read_csv(test_truth_local)\n",
    "testing_df['label'] = testing_df.iloc[:, 1:].idxmax(axis=1)\n",
    "\n",
    "label_to_idx = {label: idx for idx, label in enumerate(testing_df.iloc[:, 1:].columns)}\n",
    "testing_df['label_idx'] = testing_df['label'].map(label_to_idx)\n",
    "testing_df.head()"
   ]
  },
  {
   "cell_type": "code",
   "execution_count": 6,
   "metadata": {},
   "outputs": [
    {
     "data": {
      "text/html": [
       "<div>\n",
       "<style scoped>\n",
       "    .dataframe tbody tr th:only-of-type {\n",
       "        vertical-align: middle;\n",
       "    }\n",
       "\n",
       "    .dataframe tbody tr th {\n",
       "        vertical-align: top;\n",
       "    }\n",
       "\n",
       "    .dataframe thead th {\n",
       "        text-align: right;\n",
       "    }\n",
       "</style>\n",
       "<table border=\"1\" class=\"dataframe\">\n",
       "  <thead>\n",
       "    <tr style=\"text-align: right;\">\n",
       "      <th></th>\n",
       "      <th>image</th>\n",
       "      <th>MEL</th>\n",
       "      <th>NV</th>\n",
       "      <th>BCC</th>\n",
       "      <th>AKIEC</th>\n",
       "      <th>BKL</th>\n",
       "      <th>DF</th>\n",
       "      <th>VASC</th>\n",
       "      <th>label</th>\n",
       "      <th>label_idx</th>\n",
       "    </tr>\n",
       "  </thead>\n",
       "  <tbody>\n",
       "    <tr>\n",
       "      <th>0</th>\n",
       "      <td>ISIC_0034321</td>\n",
       "      <td>0.0</td>\n",
       "      <td>1.0</td>\n",
       "      <td>0.0</td>\n",
       "      <td>0.0</td>\n",
       "      <td>0.0</td>\n",
       "      <td>0.0</td>\n",
       "      <td>0.0</td>\n",
       "      <td>NV</td>\n",
       "      <td>1</td>\n",
       "    </tr>\n",
       "    <tr>\n",
       "      <th>1</th>\n",
       "      <td>ISIC_0034322</td>\n",
       "      <td>0.0</td>\n",
       "      <td>1.0</td>\n",
       "      <td>0.0</td>\n",
       "      <td>0.0</td>\n",
       "      <td>0.0</td>\n",
       "      <td>0.0</td>\n",
       "      <td>0.0</td>\n",
       "      <td>NV</td>\n",
       "      <td>1</td>\n",
       "    </tr>\n",
       "    <tr>\n",
       "      <th>2</th>\n",
       "      <td>ISIC_0034323</td>\n",
       "      <td>0.0</td>\n",
       "      <td>0.0</td>\n",
       "      <td>1.0</td>\n",
       "      <td>0.0</td>\n",
       "      <td>0.0</td>\n",
       "      <td>0.0</td>\n",
       "      <td>0.0</td>\n",
       "      <td>BCC</td>\n",
       "      <td>2</td>\n",
       "    </tr>\n",
       "    <tr>\n",
       "      <th>3</th>\n",
       "      <td>ISIC_0034324</td>\n",
       "      <td>0.0</td>\n",
       "      <td>1.0</td>\n",
       "      <td>0.0</td>\n",
       "      <td>0.0</td>\n",
       "      <td>0.0</td>\n",
       "      <td>0.0</td>\n",
       "      <td>0.0</td>\n",
       "      <td>NV</td>\n",
       "      <td>1</td>\n",
       "    </tr>\n",
       "    <tr>\n",
       "      <th>4</th>\n",
       "      <td>ISIC_0034325</td>\n",
       "      <td>0.0</td>\n",
       "      <td>1.0</td>\n",
       "      <td>0.0</td>\n",
       "      <td>0.0</td>\n",
       "      <td>0.0</td>\n",
       "      <td>0.0</td>\n",
       "      <td>0.0</td>\n",
       "      <td>NV</td>\n",
       "      <td>1</td>\n",
       "    </tr>\n",
       "  </tbody>\n",
       "</table>\n",
       "</div>"
      ],
      "text/plain": [
       "          image  MEL   NV  BCC  AKIEC  BKL   DF  VASC label  label_idx\n",
       "0  ISIC_0034321  0.0  1.0  0.0    0.0  0.0  0.0   0.0    NV          1\n",
       "1  ISIC_0034322  0.0  1.0  0.0    0.0  0.0  0.0   0.0    NV          1\n",
       "2  ISIC_0034323  0.0  0.0  1.0    0.0  0.0  0.0   0.0   BCC          2\n",
       "3  ISIC_0034324  0.0  1.0  0.0    0.0  0.0  0.0   0.0    NV          1\n",
       "4  ISIC_0034325  0.0  1.0  0.0    0.0  0.0  0.0   0.0    NV          1"
      ]
     },
     "execution_count": 6,
     "metadata": {},
     "output_type": "execute_result"
    }
   ],
   "source": [
    "label_to_idx = {label: idx for idx, label in enumerate(validation_df.iloc[:, 1:].columns)}\n",
    "validation_df['label_idx'] = validation_df['label'].map(label_to_idx)\n",
    "validation_df.head()"
   ]
  },
  {
   "cell_type": "code",
   "execution_count": 7,
   "metadata": {},
   "outputs": [],
   "source": [
    "# Merging both training and validation dataframes \n",
    "train_all = pd.concat([train_df, validation_df], ignore_index=True)\n",
    "train_df = train_all"
   ]
  },
  {
   "cell_type": "code",
   "execution_count": 8,
   "metadata": {},
   "outputs": [],
   "source": [
    "def plot_data(data):\n",
    "    # Display 5 images from each class\n",
    "    for class_name in classes:\n",
    "        # Filter the DataFrame to get 5 image names for the current class\n",
    "        class_images = data[data[class_name] == 1.0]['image'].values[:5]\n",
    "        # Create a subplot for each class\n",
    "        fig, axs = plt.subplots(1, 5, figsize=(20, 4))\n",
    "        fig.suptitle(class_name)\n",
    "        image_sizes = []\n",
    "        for i, image_name in enumerate(class_images):\n",
    "            image_path = os.path.join(train_image_directory, image_name + '.jpg')\n",
    "            image = Image.open(image_path)\n",
    "            axs[i].imshow(image)\n",
    "            axs[i].axis('off')  # Hide the axis\n",
    "            axs[i].set_title(f'{image_name}\\n{image.size}')\n",
    "\n",
    "        plt.show()\n",
    "# uncomment plot_data(train_df)"
   ]
  },
  {
   "cell_type": "code",
   "execution_count": 9,
   "metadata": {},
   "outputs": [
    {
     "data": {
      "image/png": "[encoded data removed]",
      "text/plain": [
       "<Figure size 800x600 with 1 Axes>"
      ]
     },
     "metadata": {},
     "output_type": "display_data"
    }
   ],
   "source": [
    "# uncomment check Class distribution in dataset\n",
    "unique_labels, counts = np.unique(train_df['label'], return_counts=True)\n",
    "plt.figure(figsize=(8, 6))\n",
    "plt.bar(unique_labels, counts)\n",
    "plt.xlabel('Class label')\n",
    "plt.ylabel('Number of samples')\n",
    "plt.title('Class distribution in dataset')\n",
    "plt.show()"
   ]
  },
  {
   "cell_type": "code",
   "execution_count": 10,
   "metadata": {},
   "outputs": [],
   "source": [
    "train_df['label_idx'].value_counts()\n",
    "cols = {\n",
    "    1 : \"NV\",\n",
    "    0 : \"MEL\",\n",
    "    4 : \"BKL\",\n",
    "    2 : \"BCC\",\n",
    "    3 : \"AKIEC\",\n",
    "    6 : \"VASC\",\n",
    "    5 : \"DF\"\n",
    "\n",
    "}"
   ]
  },
  {
   "cell_type": "code",
   "execution_count": 11,
   "metadata": {},
   "outputs": [],
   "source": [
    "# Function for the image genration\n",
    "datagen = ImageDataGenerator(\n",
    "    rotation_range=20,\n",
    "    height_shift_range=0.1,\n",
    "    # shear_range=0.1,\n",
    "    zoom_range=0.1,\n",
    "    horizontal_flip=True,\n",
    "    fill_mode='nearest'\n",
    "    )\n"
   ]
  },
  {
   "cell_type": "code",
   "execution_count": 12,
   "metadata": {},
   "outputs": [],
   "source": [
    "def sharpenImage(image):\n",
    "\n",
    "    # Split image channels\n",
    "    b, g, r = cv2.split(image)\n",
    "\n",
    "    # Black hat transformation\n",
    "    kernel = cv2.getStructuringElement(cv2.MORPH_RECT, (15, 15))\n",
    "    blackhatB = cv2.morphologyEx(b, cv2.MORPH_BLACKHAT, kernel)\n",
    "    blackhatG = cv2.morphologyEx(g, cv2.MORPH_BLACKHAT, kernel)\n",
    "    blackhatR = cv2.morphologyEx(r, cv2.MORPH_BLACKHAT, kernel)\n",
    "\n",
    "    # Merge the channels\n",
    "    blackhat = cv2.merge([blackhatB, blackhatG, blackhatR])\n",
    "\n",
    "    # Sharpen the image\n",
    "    sharpened = np.clip(image.astype(np.int16)- blackhat.astype(np.int16), 0, 255).astype(np.uint8)\n",
    "    sharpened = cv2.cvtColor(sharpened, cv2.COLOR_BGR2RGB)\n",
    "    # sharpened = torch.tensor(sharpened, dtype=torch.float32)\n",
    "\n",
    "\n",
    "    return sharpened\n",
    "images = train_df['image'].values[3429:3434]\n"
   ]
  },
  {
   "cell_type": "code",
   "execution_count": 13,
   "metadata": {},
   "outputs": [],
   "source": [
    "# Hair Removal\n",
    "def remove_hair(image):\n",
    "    # Converting to numpy from PIL\n",
    "    image = np.array(image)\n",
    "\n",
    "    # Convert the image to grayscale\n",
    "    gray = cv2.cvtColor(image, cv2.COLOR_BGR2GRAY)\n",
    "\n",
    "    # Enhance image\n",
    "    Kernel = cv2.getStructuringElement(cv2.MORPH_RECT, (15, 15))\n",
    "    blackhat = cv2.morphologyEx(gray, cv2.MORPH_BLACKHAT, Kernel)\n",
    "    enhanced = np.clip(gray.astype(np.int16) - blackhat.astype(np.int16), 0, 255).astype(np.uint8)\n",
    "\n",
    "    # Canney edge detect enhanced image\n",
    "    edges = cv2.Canny(enhanced, 150, 1750)\n",
    "\n",
    "    # Dilate detected edges\n",
    "    kernel = np.ones((5, 5), np.uint8)\n",
    "    edges = cv2.dilate(edges, kernel, iterations=1)\n",
    "\n",
    "    # Canney edge detect enhanced image\n",
    "    edges2 = cv2.Canny(enhanced, 225, 325)\n",
    "\n",
    "    # Dilate detected edges\n",
    "    edges2 = cv2.dilate(edges2, kernel, iterations=1)\n",
    "\n",
    "    # Find contours in the edge detected dilated image\n",
    "    contours, _ = cv2.findContours(edges, cv2.RETR_EXTERNAL, cv2.CHAIN_APPROX_NONE)\n",
    "\n",
    "    # Iterate through each contour in the first\n",
    "    for i, contour in enumerate(contours):\n",
    "        epsilon = 1.2\n",
    "        approx = cv2.approxPolyDP(contour, epsilon, True)\n",
    "        perimeter = cv2.arcLength(contour, closed=True)\n",
    "        area = cv2.contourArea(contour)\n",
    "        threshold = 1.1\n",
    "\n",
    "        if ((len(approx)*(3+np.log(area)))/(perimeter) >= threshold) or (area < 300):\n",
    "            edges = cv2.drawContours(edges, [contour], -1, 0, thickness=cv2.FILLED)\n",
    "\n",
    "    # Find contours in the edge detected dilated image\n",
    "    contours2, _ = cv2.findContours(edges2, cv2.RETR_EXTERNAL, cv2.CHAIN_APPROX_NONE)\n",
    "\n",
    "    # Iterate through each contour in the second\n",
    "    for i, contour in enumerate(contours2):\n",
    "        epsilon = 1.2\n",
    "        approx = cv2.approxPolyDP(contour, epsilon, True)\n",
    "        perimeter = cv2.arcLength(contour, closed=True)\n",
    "        area = cv2.contourArea(contour)\n",
    "        threshold = 0.9\n",
    "\n",
    "        if ((len(approx)*(3+np.log(area)))/(perimeter) >= threshold) or (area < 300):\n",
    "            edges4 = cv2.drawContours(edges2, [contour], -1, 0, thickness=cv2.FILLED)\n",
    "\n",
    "    kernel = np.ones((3, 3), np.uint8)\n",
    "    edges3 = cv2.dilate((edges2 + edges), kernel, iterations=1)\n",
    "\n",
    "    result = cv2.inpaint(image, edges3, inpaintRadius=2, flags=cv2.INPAINT_TELEA)\n",
    "    return result"
   ]
  },
  {
   "cell_type": "code",
   "execution_count": 14,
   "metadata": {},
   "outputs": [],
   "source": [
    "# Load train dataset\n",
    "df = train_df\n",
    "df['image_path'] = df['image'].apply(lambda x: os.path.join(train_image_directory, x + '.jpg'))\n",
    "\n",
    "# Filter out rows with images that do not exist\n",
    "df = df[df['image_path'].apply(os.path.isfile)]\n",
    "\n",
    "# Load validation dataset\n",
    "df3 = testing_df\n",
    "df3['image_path'] = df3['image'].apply(lambda x: os.path.join(testing_img_directory, x + '.jpg'))\n",
    "\n",
    "# Filter out rows with images that do not exist\n",
    "df3 = df3[df3['image_path'].apply(os.path.isfile)]\n",
    "\n",
    "# This is for VGG16 Model (need size (200,200))\n",
    "transform_train = transforms.Compose([\n",
    "    transforms.Resize((200, 200)),\n",
    "    transforms.RandomHorizontalFlip(0.5),\n",
    "    transforms.RandomCrop(200, padding=4),\n",
    "    transforms.ToTensor(),\n",
    "    transforms.Normalize((0.485, 0.456, 0.406),  (0.229, 0.224, 0.225)),\n",
    "])\n",
    "\n",
    "transform_test = transforms.Compose([\n",
    "    transforms.Resize((200, 200)),\n",
    "    transforms.ToTensor(),\n",
    "    transforms.Normalize((0.485, 0.456, 0.406),  (0.229, 0.224, 0.225)),\n",
    "])\n",
    "# Define a custom dataset class\n",
    "class CustomImageDataset(Dataset):\n",
    "    def __init__(self, dataframe, transform=None, noise_sharpen = \"Y\"):\n",
    "        self.df = dataframe\n",
    "        self.transform = transform\n",
    "        self.noise_sharpen = noise_sharpen\n",
    "\n",
    "    def __len__(self):\n",
    "        return len(self.df)\n",
    "\n",
    "    def __getitem__(self, idx):\n",
    "        img_path = self.df.iloc[idx]['image_path']\n",
    "        image = Image.open(img_path).convert('RGB')\n",
    "        label = self.df.iloc[idx]['label_idx']\n",
    "\n",
    "        if self.noise_sharpen == \"Y\":\n",
    "          image = PIL.Image.fromarray(sharpenImage(remove_hair(image)))\n",
    "\n",
    "        if self.transform:\n",
    "            image = self.transform(image)\n",
    "\n",
    "        return image, label\n"
   ]
  },
  {
   "cell_type": "code",
   "execution_count": 15,
   "metadata": {},
   "outputs": [],
   "source": [
    "import random\n",
    "import string\n",
    "\n",
    "# generating random code using all numbers and letters for unique image path name \n",
    "def generate_random_code(length=10):\n",
    "    characters = string.digits + string.ascii_letters\n",
    "    code = ''.join(random.choice(characters) for _ in range(length))\n",
    "    return code\n",
    "\n",
    "random_code = generate_random_code()"
   ]
  },
  {
   "cell_type": "code",
   "execution_count": 16,
   "metadata": {},
   "outputs": [
    {
     "name": "stdout",
     "output_type": "stream",
     "text": [
      "False\n"
     ]
    }
   ],
   "source": [
    "import os \n",
    "lst = os.listdir(train_img_dir_local) # your directory path\n",
    "number_files = len(lst)\n",
    "print(number_files<12000)"
   ]
  },
  {
   "cell_type": "code",
   "execution_count": 17,
   "metadata": {},
   "outputs": [],
   "source": [
    "from concurrent.futures import ProcessPoolExecutor, as_completed\n",
    "import time\n",
    "start = time.time()\n",
    "img_needed = 3000\n",
    "\n",
    "lst = os.listdir(train_img_dir_local) # your directory path\n",
    "number_files = len(lst)\n",
    "\n",
    "if number_files < 12000:\n",
    "\n",
    "    def process_image_data(img_info):\n",
    "        img, class_label, custom_file_name, custom_path = img_info\n",
    "        pic_array = img_to_array(load_img(img))\n",
    "        pic_array = pic_array.reshape((1,) + pic_array.shape)\n",
    "        augmented_images = datagen.flow(pic_array, batch_size=1)\n",
    "        aug_img = next(augmented_images)\n",
    "        save_img(custom_path, aug_img[0])\n",
    "        return {'image': custom_file_name, 'label_idx': class_label, 'image_path': custom_path}\n",
    "\n",
    "    # Preparing data for processing\n",
    "    tasks = []\n",
    "    for class_label in train_df['label_idx'].unique():\n",
    "        img_paths = train_df.loc[train_df['label_idx'] == class_label, 'image_path'].values\n",
    "        num_img_needed = img_needed - len(img_paths)\n",
    "        \n",
    "        if num_img_needed > 0:\n",
    "            selected_imgs = np.random.choice(img_paths, size=num_img_needed)\n",
    "            for idx, img in enumerate(selected_imgs):\n",
    "                start = round(start,4)\n",
    "                custom_file_name = f'ISIC__aug_{generate_random_code()}.jpg'\n",
    "                custom_path = os.path.join(train_image_directory, custom_file_name)\n",
    "                tasks.append((img, class_label, custom_file_name, custom_path))\n",
    "\n",
    "    # Processing images in parallel\n",
    "    results = []\n",
    "    with ProcessPoolExecutor() as executor:\n",
    "        futures = [executor.submit(process_image_data, task) for task in tasks]\n",
    "        for future in as_completed(futures):\n",
    "            results.append(future.result())\n",
    "\n",
    "    # Creating DataFrame\n",
    "    augmented = pd.DataFrame(results)\n",
    "    augmented_c = pd.concat([augmented, train_df], ignore_index=True)\n",
    "\n",
    "else: \n",
    "    augmented_c = pd.read_csv(\"Augmented Data.csv\")\n"
   ]
  },
  {
   "cell_type": "code",
   "execution_count": 18,
   "metadata": {},
   "outputs": [],
   "source": [
    "# Merging added pictures and the original pictures and only keeping 3000 instances of each class\n",
    "# The shuffling the dataframe\n",
    "\n",
    "# augmented_final = augmented_c.sample(frac=1, random_state=42).reset_index(drop=True)\n",
    "augmented_final = augmented_c.groupby('label_idx').apply(lambda x: x.sample(img_needed)).reset_index(drop=True)\n"
   ]
  },
  {
   "cell_type": "code",
   "execution_count": 19,
   "metadata": {},
   "outputs": [],
   "source": [
    "c = pd.DataFrame.to_csv(augmented_c, 'Augmented Data.csv')"
   ]
  },
  {
   "cell_type": "code",
   "execution_count": 20,
   "metadata": {},
   "outputs": [
    {
     "data": {
      "text/plain": [
       "label_idx\n",
       "0    3000\n",
       "1    3000\n",
       "2    3000\n",
       "3    3000\n",
       "4    3000\n",
       "5    3000\n",
       "6    3000\n",
       "Name: count, dtype: int64"
      ]
     },
     "execution_count": 20,
     "metadata": {},
     "output_type": "execute_result"
    }
   ],
   "source": [
    "augmented_final['label_idx'].value_counts()"
   ]
  },
  {
   "cell_type": "code",
   "execution_count": 21,
   "metadata": {},
   "outputs": [
    {
     "data": {
      "image/png": "[encoded data removed]",
      "text/plain": [
       "<Figure size 800x600 with 1 Axes>"
      ]
     },
     "metadata": {},
     "output_type": "display_data"
    },
    {
     "data": {
      "text/plain": [
       "(21000, 15)"
      ]
     },
     "execution_count": 21,
     "metadata": {},
     "output_type": "execute_result"
    }
   ],
   "source": [
    "# check Class distribution in entire dataset\n",
    "unique_labels, counts = np.unique(augmented_final['label_idx'], return_counts=True)\n",
    "plt.figure(figsize=(8, 6))\n",
    "plt.bar(cols.values(), counts)\n",
    "plt.xlabel('Class label')\n",
    "plt.ylabel('Number of samples')\n",
    "plt.title('Class distribution in dataset')\n",
    "plt.show()\n",
    "augmented_final.shape\n"
   ]
  },
  {
   "cell_type": "code",
   "execution_count": 22,
   "metadata": {},
   "outputs": [
    {
     "data": {
      "text/plain": [
       "((7000, 15), (7000, 15), (7000, 15))"
      ]
     },
     "execution_count": 22,
     "metadata": {},
     "output_type": "execute_result"
    }
   ],
   "source": [
    "# Splitting dataset into three for Each Models (ViT, VGG16, Resnet50)\n",
    "from sklearn.model_selection import train_test_split\n",
    "vit_data, rest_data = train_test_split(augmented_final, test_size=2/3, random_state=42)\n",
    "vgg16_data, resnet50_data = train_test_split(rest_data, test_size=0.5,random_state=42)\n",
    "\n",
    "vit_data.shape, vgg16_data.shape, resnet50_data.shape"
   ]
  },
  {
   "cell_type": "code",
   "execution_count": 23,
   "metadata": {},
   "outputs": [],
   "source": [
    "test_vit, test_rest = train_test_split(df3, test_size=1/3, random_state=42)\n",
    "test_vgg16, test_resnet18 = train_test_split(test_rest, test_size=1/2, random_state=42)\n"
   ]
  },
  {
   "cell_type": "code",
   "execution_count": 24,
   "metadata": {},
   "outputs": [],
   "source": [
    "# Splitting all versions into training and validation 80/20 split\n",
    "train_vit_df, val_vit_df = train_test_split(vit_data, test_size=0.2, random_state=42)\n",
    "train_vgg16_df, val_vgg16_df = train_test_split(vgg16_data, test_size=0.2, random_state=42)\n",
    "train_resnet50_df, val_resnet50_df = train_test_split(resnet50_data, test_size=0.2, random_state=42)"
   ]
  },
  {
   "cell_type": "code",
   "execution_count": 25,
   "metadata": {},
   "outputs": [],
   "source": [
    "# Making the training function\n",
    "def train_step(model: torch.nn.Module,\n",
    "              dataloader: torch.utils.data.DataLoader,\n",
    "              loss_func: torch.nn.Module,\n",
    "              optimizer: torch.optim.Optimizer,\n",
    "              device: torch.device\n",
    "              ):\n",
    "\n",
    "  train_loss = 0\n",
    "  train_acc = 0\n",
    "\n",
    "  for batch, (image, label) in enumerate(dataloader):\n",
    "\n",
    "    image, label = image.to(device), label.to(device)\n",
    "\n",
    "    pred_label = model(image)\n",
    "\n",
    "    loss = loss_func(pred_label, label)\n",
    "    train_loss += loss.item()\n",
    "\n",
    "    optimizer.zero_grad()\n",
    "\n",
    "    loss.backward()\n",
    "\n",
    "    optimizer.step()\n",
    "\n",
    "    y_pred_class = torch.argmax(torch.softmax(pred_label, dim=1), dim=1)\n",
    "    train_acc += (y_pred_class == label).sum().item()/len(pred_label)\n",
    "\n",
    "  # Adjust metrics to get average loss and accuracy per batch\n",
    "  train_loss = train_loss / len(dataloader)\n",
    "  train_acc = train_acc / len(dataloader)\n",
    "  return train_loss, train_acc\n",
    "\n"
   ]
  },
  {
   "cell_type": "code",
   "execution_count": 26,
   "metadata": {},
   "outputs": [],
   "source": [
    "# Making the validation/inference function\n",
    "\n",
    "def valid_step(model: torch.nn.Module,\n",
    "              dataloader: torch.utils.data.DataLoader,\n",
    "              loss_func: torch.nn.Module,\n",
    "              device: torch.device):\n",
    "\n",
    "  valid_loss, valid_acc = 0,0\n",
    "\n",
    "  model.eval()\n",
    "  with torch.inference_mode():\n",
    "\n",
    "    for batch, (image, label) in enumerate(dataloader):\n",
    "      image, label = image.to(device), label.to(device)\n",
    "\n",
    "      pred_label = model(image)\n",
    "\n",
    "      loss = loss_func(pred_label, label)\n",
    "      valid_loss += loss.item()\n",
    "\n",
    "      valid_pred_labels = pred_label.argmax(dim=1)\n",
    "      valid_acc += ((valid_pred_labels == label).sum().item()/len(valid_pred_labels))\n",
    "\n",
    "  valid_loss = valid_loss / len(dataloader)\n",
    "  valid_acc = valid_acc / len(dataloader)\n",
    "  return valid_loss, valid_acc\n",
    "\n"
   ]
  },
  {
   "cell_type": "code",
   "execution_count": 27,
   "metadata": {},
   "outputs": [],
   "source": [
    "def predict(model: torch.nn.Module,\n",
    "              dataloader: torch.utils.data.DataLoader,\n",
    "              device: torch.device):\n",
    "    pred = []\n",
    "    \n",
    "    actual = []\n",
    "    test_acc = 0\n",
    "    model.eval()\n",
    "    with torch.inference_mode():\n",
    "        \n",
    "        for batch, (image, label) in enumerate(dataloader):\n",
    "            image, label = image.to(device), label.to(device)\n",
    "\n",
    "            pred_label = model(image)\n",
    "            test_pred_labels = pred_label.argmax(dim=1)\n",
    "            test_acc += ((test_pred_labels == label).sum().item()/len(test_pred_labels))\n",
    "\n",
    "            \n",
    "            for ans in test_pred_labels:\n",
    "                \n",
    "                pred.append(ans.detach().cpu().numpy())\n",
    "            for ac in label:\n",
    "                actual.append(ac.detach().cpu().numpy())\n",
    "\n",
    "\n",
    "    test_acc = test_acc / len(dataloader)\n",
    "\n",
    "    return pred, actual"
   ]
  },
  {
   "cell_type": "code",
   "execution_count": null,
   "metadata": {},
   "outputs": [],
   "source": []
  },
  {
   "cell_type": "code",
   "execution_count": 28,
   "metadata": {},
   "outputs": [],
   "source": [
    "# Putting it all together\n",
    "\n",
    "def train(model: torch.nn.Module,\n",
    "              train_dataloader: torch.utils.data.DataLoader,\n",
    "              valid_data_loader: torch.utils.data.DataLoader,\n",
    "              loss_func: torch.nn.Module,\n",
    "              optimizer: torch.optim.Optimizer,\n",
    "              epochs: int,\n",
    "              device: torch.device):\n",
    "\n",
    "  train_results = {\"train_loss\": [],\n",
    "                 \"train_acc\": [],\n",
    "                 \"valid_loss\": [],\n",
    "                 \"valid_acc\": []}\n",
    "  model.to(device)\n",
    "  for epoch in range(epochs):\n",
    "\n",
    "    train_loss, train_acc = train_step(model = model,\n",
    "                                           dataloader = train_dataloader,\n",
    "                                           loss_func = loss_func,\n",
    "                                           optimizer = optimizer,\n",
    "                                           device = device)\n",
    "\n",
    "    valid_loss, valid_acc = valid_step(model = model,\n",
    "                                           dataloader = valid_data_loader,\n",
    "                                           loss_func = loss_func,\n",
    "                                           device = device)\n",
    "    print(\n",
    "          f\"Epoch: {epoch+1} | \"\n",
    "          f\"train_loss: {train_loss:.4f} | \"\n",
    "          f\"train_acc: {train_acc:.4f} | \"\n",
    "          f\"valid_loss: {valid_loss:.4f} | \"\n",
    "          f\"valid_acc: {valid_acc:.4f}\"\n",
    "        )\n",
    "    # Update results dictionary\n",
    "    train_results[\"train_loss\"].append(train_loss)\n",
    "    train_results[\"train_acc\"].append(train_acc)\n",
    "    train_results[\"valid_loss\"].append(valid_loss)\n",
    "    train_results[\"valid_acc\"].append(valid_acc)\n",
    "\n",
    "  return train_results"
   ]
  },
  {
   "cell_type": "code",
   "execution_count": 29,
   "metadata": {},
   "outputs": [
    {
     "data": {
      "text/plain": [
       "device(type='cuda', index=0)"
      ]
     },
     "execution_count": 29,
     "metadata": {},
     "output_type": "execute_result"
    }
   ],
   "source": [
    "# Move the model to the GPU if available\n",
    "device = torch.device(\"cuda:0\" if torch.cuda.is_available() else \"cpu\")\n",
    "device"
   ]
  },
  {
   "cell_type": "markdown",
   "metadata": {},
   "source": [
    "For the ViT model"
   ]
  },
  {
   "cell_type": "code",
   "execution_count": 30,
   "metadata": {},
   "outputs": [],
   "source": [
    "import time\n",
    "# changing the size of the images for the pretrained ViT model hair removal\n",
    "transform_train_vit = transforms.Compose([\n",
    "    transforms.Resize((224, 224)),\n",
    "    transforms.RandomHorizontalFlip(0.5),\n",
    "    transforms.RandomCrop(224, padding=4),\n",
    "    transforms.ToTensor(),\n",
    "    transforms.Normalize((0.485, 0.456, 0.406),  (0.229, 0.224, 0.225)),\n",
    "])\n",
    "\n",
    "transform_test_vit = transforms.Compose([\n",
    "    transforms.Resize((224, 224)),\n",
    "    transforms.ToTensor(),\n",
    "    transforms.Normalize((0.485, 0.456, 0.406),  (0.229, 0.224, 0.225)),\n",
    "])\n",
    "\n",
    "# Create an instance of the custom dataset\n",
    "dataset_vit = CustomImageDataset(train_vit_df, transform=transform_train_vit)\n",
    "\n",
    "# Create a data loader\n",
    "train_loader_vit = DataLoader(dataset_vit, batch_size=32, shuffle=True )\n",
    "\n",
    "# Create an instance of the custom dataset\n",
    "val_dataset_vit = CustomImageDataset(val_vit_df, transform = transform_test_vit)\n",
    "\n",
    "# Create a data loader\n",
    "val_loader_vit = DataLoader(val_dataset_vit, batch_size=32, shuffle=True)\n",
    "\n",
    "\n",
    "\n"
   ]
  },
  {
   "cell_type": "code",
   "execution_count": 31,
   "metadata": {},
   "outputs": [],
   "source": [
    "# Create an instance of the custom dataset\n",
    "dataset_vgg16 = CustomImageDataset(train_vgg16_df, transform=transform_train_vit)\n",
    "\n",
    "# Create a data loader\n",
    "train_loader_vgg16 = DataLoader(dataset_vgg16, batch_size=32, shuffle=True )\n",
    "\n",
    "# Create an instance of the custom dataset\n",
    "val_dataset_vgg16 = CustomImageDataset(val_vgg16_df, transform = transform_test_vit)\n",
    "\n",
    "# Create a data loader\n",
    "val_loader_vgg16 = DataLoader(val_dataset_vgg16, batch_size=32, shuffle=True)"
   ]
  },
  {
   "cell_type": "code",
   "execution_count": 32,
   "metadata": {},
   "outputs": [],
   "source": [
    "# Create an instance of the custom dataset\n",
    "dataset_resnet50 = CustomImageDataset(train_resnet50_df, transform=transform_train_vit)\n",
    "\n",
    "# Create a data loader\n",
    "train_loader_resnet50 = DataLoader(dataset_resnet50, batch_size=32, shuffle=True )\n",
    "\n",
    "# Create an instance of the custom dataset\n",
    "val_dataset_resnet50 = CustomImageDataset(val_resnet50_df, transform = transform_test_vit)\n",
    "\n",
    "# Create a data loader\n",
    "val_loader_resnet50 = DataLoader(val_dataset_resnet50, batch_size=32, shuffle=True)"
   ]
  },
  {
   "cell_type": "code",
   "execution_count": 33,
   "metadata": {},
   "outputs": [],
   "source": [
    "# Create an instance of the custom dataset\n",
    "test_dataset_vit_meta = CustomImageDataset(test_vit, transform = transform_test_vit)\n",
    "\n",
    "# Create a data loader\n",
    "test_loader_vit_meta = DataLoader(test_dataset_vit_meta, batch_size=32, shuffle=True)\n",
    "\n",
    "# Create an instance of the custom dataset\n",
    "test_dataset_vgg16_meta = CustomImageDataset(test_vgg16, transform = transform_test_vit)\n",
    "\n",
    "# Create a data loader\n",
    "test_loader_vgg16_meta = DataLoader(test_dataset_vgg16_meta, batch_size=32, shuffle=True)\n",
    "\n",
    "# Create an instance of the custom dataset\n",
    "test_dataset_resnet18_meta = CustomImageDataset(test_resnet18, transform = transform_test_vit)\n",
    "\n",
    "# Create a data loader\n",
    "test_loader_resnet18_meta = DataLoader(test_dataset_resnet18_meta, batch_size=32, shuffle=True)"
   ]
  },
  {
   "cell_type": "code",
   "execution_count": 34,
   "metadata": {},
   "outputs": [],
   "source": [
    "# Importing the model\n",
    "import torchvision\n",
    "# For the ViT model\n",
    "from torchvision.utils import make_grid\n",
    "from torchvision import transforms, datasets\n",
    "\n",
    "set_seed(42)\n",
    "# Getting pretrained weights for ViT-Base model\n",
    "vit_weights = torchvision.models.ViT_B_16_Weights.DEFAULT\n",
    "\n",
    "# Setting up model with pretrained weights\n",
    "pretrained_vit = torchvision.models.vit_b_16(weights = vit_weights).to(device)\n",
    "\n",
    "# Freezing the layers\n",
    "s = 0\n",
    "for parameters in pretrained_vit.parameters():\n",
    "  if s < 120:\n",
    "    parameters.requires_grad = False\n",
    "  else:\n",
    "    parameters.requires_grad = True\n",
    "  s+=1\n",
    "pretrained_vit.heads = nn.Linear(in_features=768, out_features=len(unique_labels)).to(device)"
   ]
  },
  {
   "cell_type": "code",
   "execution_count": 35,
   "metadata": {},
   "outputs": [],
   "source": [
    "# Adding dense layers for the prediction\n",
    "pretrained_vit.heads = nn.Sequential(\n",
    "    nn.Linear(in_features=768, out_features=500),\n",
    "    nn.ReLU(inplace=True),\n",
    "    nn.Dropout(p=0.2),\n",
    "\n",
    "    nn.Linear(in_features=500, out_features=350),\n",
    "    nn.ReLU(inplace=True),\n",
    "    nn.Dropout(p=0.15),\n",
    "    \n",
    "    nn.Linear(in_features=350, out_features=95),\n",
    "    nn.ReLU(inplace=True),\n",
    "    nn.Dropout(p=0.11),\n",
    "\n",
    "    nn.Linear(in_features=95, out_features=7),\n",
    "\n",
    ")"
   ]
  },
  {
   "cell_type": "code",
   "execution_count": 36,
   "metadata": {},
   "outputs": [],
   "source": [
    "# Optimizer and Loss\n",
    "optimizer_vit = torch.optim.Adam(params = pretrained_vit.parameters(), lr = 9e-4)\n",
    "\n",
    "# The loss function\n",
    "loss_func_vit = torch.nn.CrossEntropyLoss()\n"
   ]
  },
  {
   "cell_type": "code",
   "execution_count": 37,
   "metadata": {},
   "outputs": [
    {
     "name": "stdout",
     "output_type": "stream",
     "text": [
      "Epoch: 1 | train_loss: 1.2901 | train_acc: 0.4927 | valid_loss: 1.0394 | valid_acc: 0.6082\n",
      "Epoch: 2 | train_loss: 0.8331 | train_acc: 0.6723 | valid_loss: 0.7294 | valid_acc: 0.7178\n",
      "Epoch: 3 | train_loss: 0.7008 | train_acc: 0.7277 | valid_loss: 0.7560 | valid_acc: 0.7282\n",
      "Epoch: 4 | train_loss: 0.5517 | train_acc: 0.7936 | valid_loss: 0.6810 | valid_acc: 0.7609\n",
      "Epoch: 5 | train_loss: 0.5106 | train_acc: 0.8123 | valid_loss: 0.6149 | valid_acc: 0.7831\n",
      "Epoch: 6 | train_loss: 0.4591 | train_acc: 0.8250 | valid_loss: 0.5676 | valid_acc: 0.7945\n",
      "Epoch: 7 | train_loss: 0.3940 | train_acc: 0.8518 | valid_loss: 0.5338 | valid_acc: 0.7938\n",
      "Epoch: 8 | train_loss: 0.3442 | train_acc: 0.8736 | valid_loss: 0.4361 | valid_acc: 0.8445\n",
      "Epoch: 9 | train_loss: 0.3300 | train_acc: 0.8773 | valid_loss: 0.3904 | valid_acc: 0.8551\n",
      "Epoch: 10 | train_loss: 0.2627 | train_acc: 0.9105 | valid_loss: 0.4088 | valid_acc: 0.8696\n",
      "Epoch: 11 | train_loss: 0.2787 | train_acc: 0.9002 | valid_loss: 0.3578 | valid_acc: 0.8667\n",
      "Epoch: 12 | train_loss: 0.1988 | train_acc: 0.9293 | valid_loss: 0.3572 | valid_acc: 0.8800\n",
      "Epoch: 13 | train_loss: 0.2416 | train_acc: 0.9164 | valid_loss: 0.3714 | valid_acc: 0.8724\n",
      "Epoch: 14 | train_loss: 0.1888 | train_acc: 0.9348 | valid_loss: 0.3438 | valid_acc: 0.8923\n",
      "Epoch: 15 | train_loss: 0.1480 | train_acc: 0.9491 | valid_loss: 0.3924 | valid_acc: 0.8859\n",
      "Epoch: 16 | train_loss: 0.1808 | train_acc: 0.9371 | valid_loss: 0.3440 | valid_acc: 0.8897\n",
      "Epoch: 17 | train_loss: 0.1423 | train_acc: 0.9516 | valid_loss: 0.3077 | valid_acc: 0.9074\n",
      "Epoch: 18 | train_loss: 0.1420 | train_acc: 0.9500 | valid_loss: 0.3674 | valid_acc: 0.8885\n",
      "Epoch: 19 | train_loss: 0.1187 | train_acc: 0.9586 | valid_loss: 0.4319 | valid_acc: 0.8741\n",
      "Epoch: 20 | train_loss: 0.1264 | train_acc: 0.9571 | valid_loss: 0.3594 | valid_acc: 0.9067\n",
      "16.423842604955038 minutes\n"
     ]
    }
   ],
   "source": [
    "\n",
    "# Training the ViT Model\n",
    "set_seed(42)\n",
    "\n",
    "start = time.time()\n",
    "vision_results = train(model = pretrained_vit, train_dataloader=train_loader_vit, valid_data_loader=val_loader_vit,\n",
    "                       optimizer = optimizer_vit, loss_func = loss_func_vit, epochs = 20, device = device)\n",
    "end = time.time()\n",
    "vision_time = (end-start)/60\n",
    "print(vision_time, 'minutes')\n"
   ]
  },
  {
   "cell_type": "code",
   "execution_count": 38,
   "metadata": {},
   "outputs": [
    {
     "data": {
      "image/png": "[encoded data removed]",
      "text/plain": [
       "<Figure size 1200x600 with 2 Axes>"
      ]
     },
     "metadata": {},
     "output_type": "display_data"
    }
   ],
   "source": [
    "\n",
    "plt.figure(figsize=(12, 6))\n",
    "\n",
    "# Plot training and validation loss\n",
    "plt.subplot(1, 2, 1)\n",
    "plt.plot(vision_results['train_loss'], 'bo-', label='Training loss')\n",
    "plt.plot(vision_results['valid_loss'], 'ro-', label='Validation loss')\n",
    "plt.title('Training and validation loss')\n",
    "plt.xlabel('Epochs')\n",
    "plt.ylabel('Loss')\n",
    "plt.legend()\n",
    "plt.savefig('Vit Loss')\n",
    "\n",
    "# Plot training and validation accuracy\n",
    "plt.subplot(1, 2, 2)\n",
    "plt.plot(vision_results['train_acc'], 'bo-', label='Training accuracy')\n",
    "plt.plot(vision_results['valid_acc'], 'ro-', label='Validation accuracy')\n",
    "plt.title('Training and validation accuracy')\n",
    "plt.xlabel('Epochs')\n",
    "plt.ylabel('Accuracy')\n",
    "plt.legend()\n",
    "plt.savefig('ViT accuracy')\n",
    "\n",
    "plt.tight_layout()\n",
    "plt.show()"
   ]
  },
  {
   "cell_type": "code",
   "execution_count": 39,
   "metadata": {},
   "outputs": [],
   "source": [
    "# Saving model\n",
    "torch.save(pretrained_vit.state_dict(), f'vit_final{generate_random_code(3)}.pth')\n"
   ]
  },
  {
   "cell_type": "markdown",
   "metadata": {},
   "source": [
    "For the VGG16 Model"
   ]
  },
  {
   "cell_type": "code",
   "execution_count": 40,
   "metadata": {},
   "outputs": [],
   "source": [
    "set_seed(42)\n",
    "model_vgg16 = models.vgg16(weights=models.VGG16_Weights.IMAGENET1K_V1)\n",
    "\n",
    "# Freeze all the parameters in the feature extraction layers\n",
    "for param in model_vgg16.parameters():\n",
    "    param.requires_grad = False\n",
    "\n",
    "model_vgg16.avgpool = nn.AdaptiveAvgPool2d(output_size=(2, 2))\n",
    "# Reconstruct the classifier with new layers\n",
    "# Since the output of avgpool is [batch_size, 512, 2, 2], we have 512 * 2 * 2 = 2048 features\n",
    "model_vgg16.classifier = nn.Sequential(\n",
    "    nn.Linear(in_features=2048, out_features=1024),  # First linear layer\n",
    "    nn.ReLU(inplace=True),  # Activation function\n",
    "    nn.Dropout(p=0.2),  # Dropout to prevent overfitting\n",
    "    nn.Linear(in_features=1024, out_features=512),  # Second linear layer\n",
    "    nn.ReLU(inplace=True),  # Activation function\n",
    "    nn.Dropout(p=0.1),  # Dropout to prevent overfitting\n",
    "    nn.Linear(in_features=512, out_features=7)  # Final layer for 7 output classes\n",
    ")"
   ]
  },
  {
   "cell_type": "code",
   "execution_count": 41,
   "metadata": {},
   "outputs": [],
   "source": [
    "model_vgg16 = model_vgg16.to(device)\n",
    "criterion = nn.CrossEntropyLoss()\n",
    "optimizer = torch.optim.Adam(model_vgg16.parameters(), lr=1e-4)"
   ]
  },
  {
   "cell_type": "code",
   "execution_count": 42,
   "metadata": {},
   "outputs": [
    {
     "name": "stdout",
     "output_type": "stream",
     "text": [
      "Epoch: 1 | train_loss: 1.5383 | train_acc: 0.4407 | valid_loss: 1.1820 | valid_acc: 0.5630\n",
      "Epoch: 2 | train_loss: 1.0681 | train_acc: 0.6111 | valid_loss: 0.9848 | valid_acc: 0.6366\n",
      "Epoch: 3 | train_loss: 0.9017 | train_acc: 0.6687 | valid_loss: 0.8971 | valid_acc: 0.6695\n",
      "Epoch: 4 | train_loss: 0.8000 | train_acc: 0.7093 | valid_loss: 0.8214 | valid_acc: 0.6984\n",
      "Epoch: 5 | train_loss: 0.7380 | train_acc: 0.7304 | valid_loss: 0.7779 | valid_acc: 0.7280\n",
      "Epoch: 6 | train_loss: 0.6793 | train_acc: 0.7502 | valid_loss: 0.7341 | valid_acc: 0.7344\n",
      "Epoch: 7 | train_loss: 0.6210 | train_acc: 0.7755 | valid_loss: 0.7423 | valid_acc: 0.7270\n",
      "Epoch: 8 | train_loss: 0.5899 | train_acc: 0.7891 | valid_loss: 0.7408 | valid_acc: 0.7202\n",
      "Epoch: 9 | train_loss: 0.5480 | train_acc: 0.7993 | valid_loss: 0.6869 | valid_acc: 0.7505\n",
      "Epoch: 10 | train_loss: 0.5233 | train_acc: 0.8075 | valid_loss: 0.6808 | valid_acc: 0.7500\n",
      "Epoch: 11 | train_loss: 0.4799 | train_acc: 0.8271 | valid_loss: 0.6496 | valid_acc: 0.7640\n",
      "Epoch: 12 | train_loss: 0.4636 | train_acc: 0.8332 | valid_loss: 0.6571 | valid_acc: 0.7642\n",
      "Epoch: 13 | train_loss: 0.4352 | train_acc: 0.8439 | valid_loss: 0.6540 | valid_acc: 0.7668\n",
      "Epoch: 14 | train_loss: 0.4155 | train_acc: 0.8500 | valid_loss: 0.6756 | valid_acc: 0.7609\n",
      "Epoch: 15 | train_loss: 0.3866 | train_acc: 0.8588 | valid_loss: 0.6339 | valid_acc: 0.7831\n",
      "Epoch: 16 | train_loss: 0.3721 | train_acc: 0.8675 | valid_loss: 0.6295 | valid_acc: 0.7803\n",
      "Epoch: 17 | train_loss: 0.3485 | train_acc: 0.8782 | valid_loss: 0.6408 | valid_acc: 0.7794\n",
      "Epoch: 18 | train_loss: 0.3316 | train_acc: 0.8816 | valid_loss: 0.6093 | valid_acc: 0.7950\n",
      "Epoch: 19 | train_loss: 0.3108 | train_acc: 0.8891 | valid_loss: 0.6629 | valid_acc: 0.7812\n",
      "Epoch: 20 | train_loss: 0.3071 | train_acc: 0.8950 | valid_loss: 0.6482 | valid_acc: 0.7824\n",
      "10.471855088075001 minutes\n"
     ]
    }
   ],
   "source": [
    "start = time.time()\n",
    "vgg16_results = train(model = model_vgg16, train_dataloader=train_loader_vgg16, valid_data_loader=val_loader_vgg16,\n",
    "                       optimizer = optimizer, loss_func = criterion, epochs = 20, device = device)\n",
    "end = time.time()\n",
    "vgg16_time = (end-start)/60\n",
    "print(vgg16_time, 'minutes')"
   ]
  },
  {
   "cell_type": "code",
   "execution_count": 43,
   "metadata": {},
   "outputs": [
    {
     "data": {
      "image/png": "[encoded data removed]",
      "text/plain": [
       "<Figure size 1200x600 with 2 Axes>"
      ]
     },
     "metadata": {},
     "output_type": "display_data"
    }
   ],
   "source": [
    "# Plot training and validation loss\n",
    "plt.figure(figsize=(12, 6))\n",
    "\n",
    "plt.subplot(1, 2, 1)\n",
    "plt.plot(vgg16_results['train_loss'], 'bo-', label='Training loss')\n",
    "plt.plot(vgg16_results['valid_loss'], 'ro-', label='Validation loss')\n",
    "plt.title('Training and validation loss')\n",
    "plt.xlabel('Epochs')\n",
    "plt.ylabel('Loss')\n",
    "plt.legend()\n",
    "plt.savefig('VGG16 Loss')\n",
    "\n",
    "# Plot training and validation accuracy\n",
    "plt.subplot(1, 2, 2)\n",
    "plt.plot(vgg16_results['train_acc'], 'bo-', label='Training accuracy')\n",
    "plt.plot(vgg16_results['valid_acc'], 'ro-', label='Validation accuracy')\n",
    "plt.title('Training and validation accuracy')\n",
    "plt.xlabel('Epochs')\n",
    "plt.ylabel('Accuracy')\n",
    "plt.legend()\n",
    "plt.savefig('VGG16 accuracy')\n",
    "\n",
    "plt.tight_layout()\n",
    "plt.show()"
   ]
  },
  {
   "cell_type": "code",
   "execution_count": 44,
   "metadata": {},
   "outputs": [],
   "source": [
    "# Saving model\n",
    "torch.save(model_vgg16.state_dict(), f'vgg16_final{generate_random_code(3)}.pth')"
   ]
  },
  {
   "cell_type": "markdown",
   "metadata": {},
   "source": [
    "For Resnet50 Model"
   ]
  },
  {
   "cell_type": "code",
   "execution_count": 45,
   "metadata": {},
   "outputs": [
    {
     "name": "stderr",
     "output_type": "stream",
     "text": [
      "/home/teb344/miniconda3/lib/python3.9/site-packages/torchvision/models/_utils.py:208: UserWarning: The parameter 'pretrained' is deprecated since 0.13 and may be removed in the future, please use 'weights' instead.\n",
      "  warnings.warn(\n",
      "/home/teb344/miniconda3/lib/python3.9/site-packages/torchvision/models/_utils.py:223: UserWarning: Arguments other than a weight enum or `None` for 'weights' are deprecated since 0.13 and may be removed in the future. The current behavior is equivalent to passing `weights=ResNet18_Weights.IMAGENET1K_V1`. You can also use `weights=ResNet18_Weights.DEFAULT` to get the most up-to-date weights.\n",
      "  warnings.warn(msg)\n"
     ]
    }
   ],
   "source": [
    "\n",
    "set_seed(42)\n",
    "model_resnet50 = models.resnet18(pretrained=True)\n",
    "# # Freeze the layers of the ResNet18 model\n",
    "for param in model_resnet50.parameters():\n",
    "    param.requires_grad = False\n",
    "\n",
    "# Modify the last layer of the model\n",
    "num_classes = 7 # replace with the number of classes in your dataset\n",
    "num_features = model_resnet50.fc.in_features\n",
    "# Replace the model's classifier\n",
    "model_resnet50.fc = nn.Sequential(\n",
    "    nn.Linear(in_features=num_features, out_features=200),  # Use the correct in_features\n",
    "    nn.ReLU(),\n",
    "    nn.Dropout(0.15),\n",
    "    nn.Linear(200, num_classes)\n",
    ")"
   ]
  },
  {
   "cell_type": "code",
   "execution_count": 46,
   "metadata": {},
   "outputs": [],
   "source": [
    "model_resnet50 = model_resnet50.to(device)\n",
    "# Define the loss function and optimizer\n",
    "criterion = nn.CrossEntropyLoss()\n",
    "optimizer = torch.optim.Adam(model_resnet50.parameters(), lr=0.0009)"
   ]
  },
  {
   "cell_type": "code",
   "execution_count": 47,
   "metadata": {},
   "outputs": [
    {
     "name": "stdout",
     "output_type": "stream",
     "text": [
      "Epoch: 1 | train_loss: 1.3214 | train_acc: 0.5021 | valid_loss: 1.0751 | valid_acc: 0.6020\n",
      "Epoch: 2 | train_loss: 0.9499 | train_acc: 0.6429 | valid_loss: 0.9756 | valid_acc: 0.6229\n",
      "Epoch: 3 | train_loss: 0.8603 | train_acc: 0.6768 | valid_loss: 0.8849 | valid_acc: 0.6629\n",
      "Epoch: 4 | train_loss: 0.8201 | train_acc: 0.6979 | valid_loss: 0.8462 | valid_acc: 0.6728\n",
      "Epoch: 5 | train_loss: 0.7742 | train_acc: 0.7070 | valid_loss: 0.8370 | valid_acc: 0.6740\n",
      "Epoch: 6 | train_loss: 0.7360 | train_acc: 0.7204 | valid_loss: 0.8115 | valid_acc: 0.6823\n",
      "Epoch: 7 | train_loss: 0.6893 | train_acc: 0.7389 | valid_loss: 0.7867 | valid_acc: 0.6889\n",
      "Epoch: 8 | train_loss: 0.6688 | train_acc: 0.7523 | valid_loss: 0.7457 | valid_acc: 0.7133\n",
      "Epoch: 9 | train_loss: 0.6440 | train_acc: 0.7550 | valid_loss: 0.7600 | valid_acc: 0.7159\n",
      "Epoch: 10 | train_loss: 0.6200 | train_acc: 0.7718 | valid_loss: 0.7772 | valid_acc: 0.7022\n",
      "Epoch: 11 | train_loss: 0.6078 | train_acc: 0.7684 | valid_loss: 0.7266 | valid_acc: 0.7223\n",
      "Epoch: 12 | train_loss: 0.5701 | train_acc: 0.7907 | valid_loss: 0.6977 | valid_acc: 0.7391\n",
      "Epoch: 13 | train_loss: 0.5481 | train_acc: 0.7961 | valid_loss: 0.7348 | valid_acc: 0.7322\n",
      "Epoch: 14 | train_loss: 0.5239 | train_acc: 0.8059 | valid_loss: 0.7171 | valid_acc: 0.7247\n",
      "Epoch: 15 | train_loss: 0.5241 | train_acc: 0.8052 | valid_loss: 0.6928 | valid_acc: 0.7410\n",
      "Epoch: 16 | train_loss: 0.5002 | train_acc: 0.8129 | valid_loss: 0.7027 | valid_acc: 0.7389\n",
      "Epoch: 17 | train_loss: 0.4721 | train_acc: 0.8263 | valid_loss: 0.7097 | valid_acc: 0.7379\n",
      "Epoch: 18 | train_loss: 0.4414 | train_acc: 0.8371 | valid_loss: 0.6806 | valid_acc: 0.7507\n",
      "Epoch: 19 | train_loss: 0.4332 | train_acc: 0.8402 | valid_loss: 0.7209 | valid_acc: 0.7332\n",
      "Epoch: 20 | train_loss: 0.4113 | train_acc: 0.8512 | valid_loss: 0.6390 | valid_acc: 0.7675\n",
      "Epoch: 21 | train_loss: 0.3939 | train_acc: 0.8552 | valid_loss: 0.6643 | valid_acc: 0.7670\n",
      "Epoch: 22 | train_loss: 0.3963 | train_acc: 0.8509 | valid_loss: 0.6885 | valid_acc: 0.7637\n",
      "Epoch: 23 | train_loss: 0.3921 | train_acc: 0.8520 | valid_loss: 0.6851 | valid_acc: 0.7699\n",
      "Epoch: 24 | train_loss: 0.3703 | train_acc: 0.8605 | valid_loss: 0.6422 | valid_acc: 0.7746\n",
      "Epoch: 25 | train_loss: 0.3598 | train_acc: 0.8693 | valid_loss: 0.6850 | valid_acc: 0.7517\n",
      "10.452 minutes\n"
     ]
    }
   ],
   "source": [
    "start = time.time()\n",
    "resnet50_results = train(model = model_resnet50, train_dataloader=train_loader_vgg16, valid_data_loader=val_loader_vgg16,\n",
    "                       optimizer = optimizer, loss_func = criterion, epochs = 25, device = device)\n",
    "end = time.time()\n",
    "resnet50_time = (end-start)/60\n",
    "resnet50_time = np.round(resnet50_time, 3)\n",
    "print(resnet50_time, 'minutes')"
   ]
  },
  {
   "cell_type": "code",
   "execution_count": 48,
   "metadata": {},
   "outputs": [
    {
     "data": {
      "image/png": "[encoded data removed]",
      "text/plain": [
       "<Figure size 1200x600 with 2 Axes>"
      ]
     },
     "metadata": {},
     "output_type": "display_data"
    }
   ],
   "source": [
    "plt.figure(figsize=(12, 6))\n",
    "\n",
    "# Plot training and validation loss\n",
    "plt.subplot(1, 2, 1)\n",
    "plt.plot(resnet50_results['train_loss'], 'bo-', label='Training loss')\n",
    "plt.plot(resnet50_results['valid_loss'], 'ro-', label='Validation loss')\n",
    "plt.title('Training and validation loss')\n",
    "plt.xlabel('Epochs')\n",
    "plt.ylabel('Loss')\n",
    "plt.legend()\n",
    "plt.savefig('Resnet18 Loss')\n",
    "\n",
    "# Plot training and validation accuracy\n",
    "plt.subplot(1, 2, 2)\n",
    "plt.plot(resnet50_results['train_acc'], 'bo-', label='Training accuracy')\n",
    "plt.plot(resnet50_results['valid_acc'], 'ro-', label='Validation accuracy')\n",
    "plt.title('Training and validation accuracy')\n",
    "plt.xlabel('Epochs')\n",
    "plt.ylabel('Accuracy')\n",
    "plt.legend()\n",
    "plt.savefig('Resnet18 accuracy')\n",
    "\n",
    "plt.tight_layout()\n",
    "plt.show()"
   ]
  },
  {
   "cell_type": "code",
   "execution_count": 49,
   "metadata": {},
   "outputs": [],
   "source": [
    "# Saving model\n",
    "torch.save(pretrained_vit.state_dict(), f'resnet_final{generate_random_code(3)}.pth')\n"
   ]
  },
  {
   "cell_type": "markdown",
   "metadata": {},
   "source": [
    "Creating Meta training and Validation Data"
   ]
  },
  {
   "cell_type": "code",
   "execution_count": 50,
   "metadata": {},
   "outputs": [],
   "source": [
    "# Taking the proberbility of each 7 class as features into the meta learner \n",
    "def meta_features(model, device, data_loader):\n",
    "\n",
    "        nn_output = []\n",
    "        actual = []\n",
    "        model.eval()\n",
    "        with torch.inference_mode():\n",
    "                \n",
    "                for batch, (img, label) in enumerate(data_loader):\n",
    "                        img, label = img.to(device), label.to(device)\n",
    "                        out = model(img)\n",
    "\n",
    "                        for lab in label:\n",
    "                                actual.append(lab.detach().cpu().numpy())\n",
    "                                \n",
    "                        for i in out: \n",
    "                                nn_output.append(i.detach().cpu().numpy())\n",
    "\n",
    "        features = pd.DataFrame(nn_output, columns=['One', 'Two', 'Three', 'Four', 'Five', 'Six', 'Seven'])   \n",
    "        features['Actual'] = actual\n",
    "\n",
    "        return features \n"
   ]
  },
  {
   "cell_type": "code",
   "execution_count": 51,
   "metadata": {},
   "outputs": [],
   "source": [
    "model_list = [pretrained_vit, model_vgg16, model_resnet50]\n",
    "train_list =[train_loader_vit, train_loader_vgg16, train_loader_resnet50]\n",
    "val_list = [val_loader_vit, val_loader_vgg16, val_loader_resnet50]\n",
    "test_list = [test_loader_vit_meta, test_loader_vgg16_meta, test_loader_resnet18_meta]\n",
    "\n",
    "meta_train_data = []\n",
    "meta_val_data = []\n",
    "meta_test_data = []\n",
    "\n",
    "# Meta Training Data\n",
    "for i, (model) in enumerate(model_list):\n",
    "    meta_train_data.append(meta_features(model, device, train_list[i]))\n",
    "\n",
    "# Meta Validation Data\n",
    "for i, (model) in enumerate(model_list):\n",
    "    meta_val_data.append(meta_features(model, device, val_list[i]))\n",
    "\n",
    "# Meta Testing Data\n",
    "for i, (model) in enumerate(model_list):\n",
    "    meta_test_data.append(meta_features(model, device, test_list[i]))"
   ]
  },
  {
   "cell_type": "code",
   "execution_count": 52,
   "metadata": {},
   "outputs": [],
   "source": [
    "meta_train = pd.concat([meta_train_data[0], meta_train_data[1], meta_train_data[2]])\n",
    "meta_val = pd.concat([meta_val_data[0], meta_val_data[1], meta_val_data[2]])\n",
    "meta_test = pd.concat([meta_test_data[0], meta_test_data[1], meta_test_data[2]])"
   ]
  },
  {
   "cell_type": "code",
   "execution_count": 53,
   "metadata": {},
   "outputs": [
    {
     "data": {
      "text/plain": [
       "((16800, 7), (4200, 7), (1512, 7))"
      ]
     },
     "execution_count": 53,
     "metadata": {},
     "output_type": "execute_result"
    }
   ],
   "source": [
    "meta_train_target = meta_train['Actual']\n",
    "meta_val_target = meta_val['Actual']\n",
    "meta_test_target = meta_test['Actual']\n",
    "\n",
    "meta_train = meta_train.drop(columns='Actual', axis=1)\n",
    "meta_val = meta_val.drop(columns='Actual', axis=1)\n",
    "meta_test = meta_test.drop(columns='Actual', axis=1)\n",
    "\n",
    "meta_train.shape, meta_val.shape, meta_test.shape"
   ]
  },
  {
   "cell_type": "code",
   "execution_count": 54,
   "metadata": {},
   "outputs": [],
   "source": [
    "# Loading testing data \n",
    "test_dataset_vit = CustomImageDataset(df3, transform=transform_test_vit)\n",
    "test_loader_vit = DataLoader(test_dataset_vit, shuffle=True, batch_size=32)"
   ]
  },
  {
   "cell_type": "code",
   "execution_count": 55,
   "metadata": {},
   "outputs": [],
   "source": [
    "predictions_vit, actual_vit = predict(pretrained_vit, test_loader_vit, device=device)\n",
    "predictions_vgg16, actual_vgg16 = predict(model_vgg16, test_loader_vit, device=device)\n",
    "predictions_resnet50, actual_resnet50= predict(model_resnet50, test_loader_vit, device=device)\n"
   ]
  },
  {
   "cell_type": "code",
   "execution_count": 56,
   "metadata": {},
   "outputs": [],
   "source": [
    "from sklearn.preprocessing import LabelBinarizer\n",
    "\n",
    "def binary(actual, predicted):\n",
    "\n",
    "    # Assuming 'pred' is your predictions array\n",
    "    label_binarizer = LabelBinarizer()\n",
    "    label_binarizer.fit(range(len(predicted)))\n",
    "    pred_one_hot = label_binarizer.transform(predicted)\n",
    "    actual_one_hot = label_binarizer.transform(actual)\n",
    "    return actual_one_hot, pred_one_hot"
   ]
  },
  {
   "cell_type": "code",
   "execution_count": 198,
   "metadata": {},
   "outputs": [
    {
     "name": "stdout",
     "output_type": "stream",
     "text": [
      "dict_keys([1, 0, 4, 2, 3, 6, 5])\n"
     ]
    }
   ],
   "source": [
    "key_arr = np.array(cols.keys())\n",
    "print(key_arr)\n",
    "key_arr = np.array([1,0,4,2,3,6,5])\n",
    "key_values = ['NV', 'MEL', 'BKL', 'BCC', 'AKIEC', 'VASC', 'DF']\n",
    "\n",
    "#  Classification Metrics\n",
    "def compute_performance_multi_class_weighted(yhat, y, classes, names, model_name):\n",
    "    metrics = {\n",
    "        'accuracy': [],\n",
    "        'balanced_accuracy': [],\n",
    "        'precision': [],\n",
    "        'recall': [],  # Sensitivity\n",
    "        'specificity': [],\n",
    "        'f1_score': [],\n",
    "        'support': []  # Number of instances for each class\n",
    "    }\n",
    "    \n",
    "    total_instances = len(y)\n",
    "    x = 0\n",
    "    print(f\"\\nFor the {model_name} model\")\n",
    "    \n",
    "    for current_class in classes:\n",
    "        tp = sum((yhat == current_class) & (y == current_class))\n",
    "        tn = sum((yhat != current_class) & (y != current_class))\n",
    "        fp = sum((yhat == current_class) & (y != current_class))\n",
    "        fn = sum((yhat != current_class) & (y == current_class))\n",
    "        \n",
    "        acc = (tp + tn) / (tp + tn + fp + fn)\n",
    "        precision = tp / (tp + fp) if (tp + fp) > 0 else 0\n",
    "        recall = tp / (tp + fn) if (tp + fn) > 0 else 0  # Sensitivity\n",
    "        specificity = tn / (tn + fp) if (tn + fp) > 0 else 0\n",
    "        f1 = 2 * (precision * recall) / (precision + recall) if (precision + recall) > 0 else 0\n",
    "        balanced_acc = (recall + specificity) / 2\n",
    "        support = sum(y == current_class)\n",
    "        \n",
    "        # Append the metrics for the current class\n",
    "        metrics['accuracy'].append(acc)\n",
    "        metrics['balanced_accuracy'].append(balanced_acc)\n",
    "        metrics['precision'].append(precision)\n",
    "        metrics['recall'].append(recall)\n",
    "        metrics['specificity'].append(specificity)\n",
    "        metrics['f1_score'].append(f1)\n",
    "        metrics['support'].append(support)\n",
    "        \n",
    "        \n",
    "        print(f\"Class: {names[x]}, Support: {support}, TP: {tp}, TN: {tn}, FP: {fp}, FN: {fn}, \"\n",
    "              f\"Acc: {acc:.4f}, Precision: {precision:.4f}, Recall: {recall:.4f}, \"\n",
    "              f\"Specificity: {specificity:.4f}, F1: {f1:.4f}, Balanced Acc: {balanced_acc:.4f}\")\n",
    "        x+=1\n",
    "\n",
    "    # Calculate and print weighted average of the metrics\n",
    "    print(\"\\nWeighted-Average Metrics:\")\n",
    "    for metric_name in ['accuracy', 'balanced_accuracy', 'precision', 'recall', 'specificity', 'f1_score']:\n",
    "        weighted_average = np.average(metrics[metric_name], weights=metrics['support'])\n",
    "        print(f\"{metric_name.capitalize()}: {weighted_average:.4f}\")"
   ]
  },
  {
   "cell_type": "code",
   "execution_count": null,
   "metadata": {},
   "outputs": [],
   "source": [
    "# # Scorings \n",
    "# from sklearn.metrics import classification_report, confusion_matrix\n",
    "\n",
    "# def scores(actual, predictions, model_type):\n",
    "#     # actual_roc, pred_roc = binary(actual, predictions)\n",
    "#     results = {\n",
    "#         \"Balanced_Acc\": [balanced_accuracy_score(actual, predictions)],\n",
    "#                     \"Acc\": [accuracy_score(actual, predictions)],\n",
    "#                     \"F1_score\": [f1_score(actual, predictions, average='weighted')],\n",
    "#                     # \"roc_auc_score\": [roc_auc_score(actual_roc, pred_roc, multi_class='ovr', average='micro')]\n",
    "#                     }\n",
    "\n",
    "#     print(F\"For the {model_type} model the results are: \\n\")\n",
    "#     print(classification_report(actual, predictions, target_names=cols.values()))\n",
    "#     print(f\"Balanced Accuracy is: {results['Balanced_Acc']}\")\n",
    "#     print(f\"Accuracy is: {results['Acc']}\")\n",
    "#     print(f\"F1 Score is: {results['F1_score']}\")\n",
    "#     # print(f\"ROC AUC Score is: {results['roc_auc_score']}\\n\")\n",
    "#     return results\n",
    "\n"
   ]
  },
  {
   "cell_type": "code",
   "execution_count": 65,
   "metadata": {},
   "outputs": [],
   "source": [
    "from sklearn.model_selection import GridSearchCV\n",
    "params = {\n",
    "    'max_depth': [2,3,5,6],\n",
    "    'n_estimators': [100, 200, 350],\n",
    "    'eta': [1e02, 2e-3, 1e-4],\n",
    "    'gamma': [0.1, 0.5, 0.8]\n",
    "}"
   ]
  },
  {
   "cell_type": "code",
   "execution_count": null,
   "metadata": {},
   "outputs": [],
   "source": [
    "from sklearn.ensemble import RandomForestClassifier\n",
    "param_grid = {\n",
    "    \"n_estimators\": [400, 600, 800],\n",
    "    \"max_depth\": [None, 2, 4, 6],\n",
    "    \"min_samples_leaf\": [1, 2, 3]\n",
    "}\n",
    "\n",
    "meta_randomF = RandomForestClassifier(random_state=42, oob_score=True, bootstrap=True)\n",
    "grid_search_rf_meta = GridSearchCV(estimator=meta_randomF,\n",
    "                                   param_grid=param_grid, cv=5, scoring='neg_log_loss', n_jobs=-1 ,\n",
    "                                   refit=True, error_score='raise').fit(meta_train, meta_train_target)\n",
    "\n",
    "print(f\"The best hyperparameters are: {grid_search_rf_meta.best_params_}\")"
   ]
  },
  {
   "cell_type": "code",
   "execution_count": 172,
   "metadata": {},
   "outputs": [],
   "source": [
    "pred_rf= np.array(grid_search_rf_meta.predict(meta_test).astype(int))\n",
    "actual = meta_test_target.values\n"
   ]
  },
  {
   "cell_type": "code",
   "execution_count": 184,
   "metadata": {},
   "outputs": [],
   "source": [
    "#  Classification Metrics\n",
    "def compute_performance_multi_class_weighted(yhat, y, classes, names, model_name):\n",
    "    metrics = {\n",
    "        'accuracy': [],\n",
    "        'balanced_accuracy': [],\n",
    "        'precision': [],\n",
    "        'recall': [],  # Sensitivity\n",
    "        'specificity': [],\n",
    "        'f1_score': [],\n",
    "        'support': []  # Number of instances for each class\n",
    "    }\n",
    "    \n",
    "    total_instances = len(y)\n",
    "    x = 0\n",
    "    \n",
    "    for current_class in classes:\n",
    "        tp = sum((yhat == current_class) & (y == current_class))\n",
    "        tn = sum((yhat != current_class) & (y != current_class))\n",
    "        fp = sum((yhat == current_class) & (y != current_class))\n",
    "        fn = sum((yhat != current_class) & (y == current_class))\n",
    "        \n",
    "        acc = (tp + tn) / (tp + tn + fp + fn)\n",
    "        precision = tp / (tp + fp) if (tp + fp) > 0 else 0\n",
    "        recall = tp / (tp + fn) if (tp + fn) > 0 else 0  # Sensitivity\n",
    "        specificity = tn / (tn + fp) if (tn + fp) > 0 else 0\n",
    "        f1 = 2 * (precision * recall) / (precision + recall) if (precision + recall) > 0 else 0\n",
    "        balanced_acc = (recall + specificity) / 2\n",
    "        support = sum(y == current_class)\n",
    "        \n",
    "        # Append the metrics for the current class\n",
    "        metrics['accuracy'].append(acc)\n",
    "        metrics['balanced_accuracy'].append(balanced_acc)\n",
    "        metrics['precision'].append(precision)\n",
    "        metrics['recall'].append(recall)\n",
    "        metrics['specificity'].append(specificity)\n",
    "        metrics['f1_score'].append(f1)\n",
    "        metrics['support'].append(support)\n",
    "        \n",
    "        print(f\"Class: {names[x]}, Support: {support}, TP: {tp}, TN: {tn}, FP: {fp}, FN: {fn}, \"\n",
    "              f\"Acc: {acc:.4f}, Precision: {precision:.4f}, Recall: {recall:.4f}, \"\n",
    "              f\"Specificity: {specificity:.4f}, F1: {f1:.4f}, Balanced Acc: {balanced_acc:.4f}\")\n",
    "        x+=1\n",
    "\n",
    "    # Calculate and print weighted average of the metrics\n",
    "    print(\"\\nWeighted-Average Metrics:\")\n",
    "    for metric_name in ['accuracy', 'balanced_accuracy', 'precision', 'recall', 'specificity', 'f1_score']:\n",
    "        weighted_average = np.average(metrics[metric_name], weights=metrics['support'])\n",
    "        print(f\"{metric_name.capitalize()}: {weighted_average:.4f}\")"
   ]
  },
  {
   "cell_type": "code",
   "execution_count": 201,
   "metadata": {},
   "outputs": [
    {
     "name": "stdout",
     "output_type": "stream",
     "text": [
      "\n",
      "For the ViT model\n",
      "Class: NV, Support: 909, TP: 711, TN: 555, FP: 48, FN: 198, Acc: 0.8373, Precision: 0.9368, Recall: 0.7822, Specificity: 0.9204, F1: 0.8525, Balanced Acc: 0.8513\n",
      "Class: MEL, Support: 171, TP: 89, TN: 1256, FP: 85, FN: 82, Acc: 0.8896, Precision: 0.5115, Recall: 0.5205, Specificity: 0.9366, F1: 0.5159, Balanced Acc: 0.7285\n",
      "Class: BKL, Support: 217, TP: 160, TN: 1111, FP: 184, FN: 57, Acc: 0.8406, Precision: 0.4651, Recall: 0.7373, Specificity: 0.8579, F1: 0.5704, Balanced Acc: 0.7976\n",
      "Class: BCC, Support: 93, TP: 71, TN: 1347, FP: 72, FN: 22, Acc: 0.9378, Precision: 0.4965, Recall: 0.7634, Specificity: 0.9493, F1: 0.6017, Balanced Acc: 0.8564\n",
      "Class: AKIEC, Support: 43, TP: 24, TN: 1458, FP: 11, FN: 19, Acc: 0.9802, Precision: 0.6857, Recall: 0.5581, Specificity: 0.9925, F1: 0.6154, Balanced Acc: 0.7753\n",
      "Class: VASC, Support: 35, TP: 21, TN: 1475, FP: 2, FN: 14, Acc: 0.9894, Precision: 0.9130, Recall: 0.6000, Specificity: 0.9986, F1: 0.7241, Balanced Acc: 0.7993\n",
      "Class: DF, Support: 44, TP: 25, TN: 1459, FP: 9, FN: 19, Acc: 0.9815, Precision: 0.7353, Recall: 0.5682, Specificity: 0.9939, F1: 0.6410, Balanced Acc: 0.7810\n",
      "\n",
      "Weighted-Average Metrics:\n",
      "Accuracy: 0.8616\n",
      "Balanced_accuracy: 0.8246\n",
      "Precision: 0.7803\n",
      "Recall: 0.7282\n",
      "Specificity: 0.9210\n",
      "F1_score: 0.7427\n",
      "\n",
      "For the VGG16 model\n",
      "Class: NV, Support: 909, TP: 724, TN: 480, FP: 123, FN: 185, Acc: 0.7963, Precision: 0.8548, Recall: 0.7965, Specificity: 0.7960, F1: 0.8246, Balanced Acc: 0.7962\n",
      "Class: MEL, Support: 171, TP: 62, TN: 1211, FP: 130, FN: 109, Acc: 0.8419, Precision: 0.3229, Recall: 0.3626, Specificity: 0.9031, F1: 0.3416, Balanced Acc: 0.6328\n",
      "Class: BKL, Support: 217, TP: 135, TN: 1097, FP: 198, FN: 82, Acc: 0.8148, Precision: 0.4054, Recall: 0.6221, Specificity: 0.8471, F1: 0.4909, Balanced Acc: 0.7346\n",
      "Class: BCC, Support: 93, TP: 32, TN: 1385, FP: 34, FN: 61, Acc: 0.9372, Precision: 0.4848, Recall: 0.3441, Specificity: 0.9760, F1: 0.4025, Balanced Acc: 0.6601\n",
      "Class: AKIEC, Support: 43, TP: 7, TN: 1444, FP: 25, FN: 36, Acc: 0.9597, Precision: 0.2188, Recall: 0.1628, Specificity: 0.9830, F1: 0.1867, Balanced Acc: 0.5729\n",
      "Class: VASC, Support: 35, TP: 12, TN: 1473, FP: 4, FN: 23, Acc: 0.9821, Precision: 0.7500, Recall: 0.3429, Specificity: 0.9973, F1: 0.4706, Balanced Acc: 0.6701\n",
      "Class: DF, Support: 44, TP: 15, TN: 1457, FP: 11, FN: 29, Acc: 0.9735, Precision: 0.5769, Recall: 0.3409, Specificity: 0.9925, F1: 0.4286, Balanced Acc: 0.6667\n",
      "\n",
      "Weighted-Average Metrics:\n",
      "Accuracy: 0.8269\n",
      "Balanced_accuracy: 0.7475\n",
      "Precision: 0.6788\n",
      "Recall: 0.6528\n",
      "Specificity: 0.8422\n",
      "F1_score: 0.6583\n",
      "\n",
      "For the Resnet18 model\n",
      "Class: NV, Support: 909, TP: 627, TN: 548, FP: 55, FN: 282, Acc: 0.7771, Precision: 0.9194, Recall: 0.6898, Specificity: 0.9088, F1: 0.7882, Balanced Acc: 0.7993\n",
      "Class: MEL, Support: 171, TP: 103, TN: 1099, FP: 242, FN: 68, Acc: 0.7950, Precision: 0.2986, Recall: 0.6023, Specificity: 0.8195, F1: 0.3992, Balanced Acc: 0.7109\n",
      "Class: BKL, Support: 217, TP: 123, TN: 1149, FP: 146, FN: 94, Acc: 0.8413, Precision: 0.4572, Recall: 0.5668, Specificity: 0.8873, F1: 0.5062, Balanced Acc: 0.7270\n",
      "Class: BCC, Support: 93, TP: 32, TN: 1394, FP: 25, FN: 61, Acc: 0.9431, Precision: 0.5614, Recall: 0.3441, Specificity: 0.9824, F1: 0.4267, Balanced Acc: 0.6632\n",
      "Class: AKIEC, Support: 43, TP: 24, TN: 1389, FP: 80, FN: 19, Acc: 0.9345, Precision: 0.2308, Recall: 0.5581, Specificity: 0.9455, F1: 0.3265, Balanced Acc: 0.7518\n",
      "Class: VASC, Support: 35, TP: 14, TN: 1465, FP: 12, FN: 21, Acc: 0.9782, Precision: 0.5385, Recall: 0.4000, Specificity: 0.9919, F1: 0.4590, Balanced Acc: 0.6959\n",
      "Class: DF, Support: 44, TP: 15, TN: 1454, FP: 14, FN: 29, Acc: 0.9716, Precision: 0.5172, Recall: 0.3409, Specificity: 0.9905, F1: 0.4110, Balanced Acc: 0.6657\n",
      "\n",
      "Weighted-Average Metrics:\n",
      "Accuracy: 0.8133\n",
      "Balanced_accuracy: 0.7629\n",
      "Precision: 0.7207\n",
      "Recall: 0.6204\n",
      "Specificity: 0.9055\n",
      "F1_score: 0.6498\n",
      "\n",
      "For the Meta_Learner model\n",
      "Class: NV, Support: 909, TP: 707, TN: 543, FP: 60, FN: 202, Acc: 0.8267, Precision: 0.9218, Recall: 0.7778, Specificity: 0.9005, F1: 0.8437, Balanced Acc: 0.8391\n",
      "Class: MEL, Support: 171, TP: 103, TN: 1199, FP: 142, FN: 68, Acc: 0.8611, Precision: 0.4204, Recall: 0.6023, Specificity: 0.8941, F1: 0.4952, Balanced Acc: 0.7482\n",
      "Class: BKL, Support: 217, TP: 140, TN: 1165, FP: 130, FN: 77, Acc: 0.8631, Precision: 0.5185, Recall: 0.6452, Specificity: 0.8996, F1: 0.5749, Balanced Acc: 0.7724\n",
      "Class: BCC, Support: 93, TP: 58, TN: 1352, FP: 67, FN: 35, Acc: 0.9325, Precision: 0.4640, Recall: 0.6237, Specificity: 0.9528, F1: 0.5321, Balanced Acc: 0.7882\n",
      "Class: AKIEC, Support: 43, TP: 18, TN: 1443, FP: 26, FN: 25, Acc: 0.9663, Precision: 0.4091, Recall: 0.4186, Specificity: 0.9823, F1: 0.4138, Balanced Acc: 0.7005\n",
      "Class: VASC, Support: 35, TP: 20, TN: 1472, FP: 5, FN: 15, Acc: 0.9868, Precision: 0.8000, Recall: 0.5714, Specificity: 0.9966, F1: 0.6667, Balanced Acc: 0.7840\n",
      "Class: DF, Support: 44, TP: 22, TN: 1454, FP: 14, FN: 22, Acc: 0.9762, Precision: 0.6111, Recall: 0.5000, Specificity: 0.9905, F1: 0.5500, Balanced Acc: 0.7452\n",
      "\n",
      "Weighted-Average Metrics:\n",
      "Accuracy: 0.8544\n",
      "Balanced_accuracy: 0.8082\n",
      "Precision: 0.7526\n",
      "Recall: 0.7063\n",
      "Specificity: 0.9100\n",
      "F1_score: 0.7217\n"
     ]
    }
   ],
   "source": [
    "vit_results = compute_performance_multi_class_weighted(predictions_vit, actual_vit, key_arr, key_values, \"ViT\")\n",
    "vgg16_results = compute_performance_multi_class_weighted(predictions_vgg16, actual_vgg16, key_arr, key_values, \"VGG16\")\n",
    "resnet50_results = compute_performance_multi_class_weighted(predictions_resnet50, actual_resnet50, key_arr, key_values, \"Resnet18\")\n",
    "meta_results = compute_performance_multi_class_weighted(pred_rf, actual, key_arr, key_values, \"Meta_Learner\")"
   ]
  }
 ],
 "metadata": {
  "kernelspec": {
   "display_name": "Python 3 (ipykernel)",
   "language": "python",
   "name": "python3"
  },
  "language_info": {
   "codemirror_mode": {
    "name": "ipython",
    "version": 3
   },
   "file_extension": ".py",
   "mimetype": "text/x-python",
   "name": "python",
   "nbconvert_exporter": "python",
   "pygments_lexer": "ipython3",
   "version": "3.9.19"
  }
 },
 "nbformat": 4,
 "nbformat_minor": 2
}
